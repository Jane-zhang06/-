{
  "nbformat": 4,
  "nbformat_minor": 0,
  "metadata": {
    "colab": {
      "name": "面向对象.ipynb",
      "provenance": [],
      "toc_visible": true,
      "authorship_tag": "ABX9TyPSrBRhAXxk5+m55iNOVAqW",
      "include_colab_link": true
    },
    "kernelspec": {
      "name": "python3",
      "display_name": "Python 3"
    },
    "language_info": {
      "name": "python"
    }
  },
  "cells": [
    {
      "cell_type": "markdown",
      "metadata": {
        "id": "view-in-github",
        "colab_type": "text"
      },
      "source": [
        "<a href=\"https://colab.research.google.com/github/Jane-zhang06/-/blob/main/%E9%9D%A2%E5%90%91%E5%AF%B9%E8%B1%A1.ipynb\" target=\"_parent\"><img src=\"https://colab.research.google.com/assets/colab-badge.svg\" alt=\"Open In Colab\"/></a>"
      ]
    },
    {
      "cell_type": "code",
      "metadata": {
        "colab": {
          "base_uri": "https://localhost:8080/",
          "height": 52
        },
        "id": "o3LmorBztGSr",
        "outputId": "177add11-f7d8-4f6f-c569-6598db4fc59e"
      },
      "source": [
        "gl_list = []\n",
        "\n",
        "dir(gl_list) # dir() 查看对象的方法或属性\n",
        "\n",
        "gl_list.__doc__"
      ],
      "execution_count": 7,
      "outputs": [
        {
          "output_type": "execute_result",
          "data": {
            "application/vnd.google.colaboratory.intrinsic+json": {
              "type": "string"
            },
            "text/plain": [
              "'Built-in mutable sequence.\\n\\nIf no argument is given, the constructor creates a new empty list.\\nThe argument must be an iterable if specified.'"
            ]
          },
          "metadata": {},
          "execution_count": 7
        }
      ]
    },
    {
      "cell_type": "code",
      "metadata": {
        "colab": {
          "base_uri": "https://localhost:8080/"
        },
        "id": "i85aR17-uyQw",
        "outputId": "83a06c78-1182-4b5c-bb47-342e1c58e15e"
      },
      "source": [
        "# \n",
        "class Cat:\n",
        "\n",
        "  def eat(self):\n",
        "    print('The cat loves to eat fish.')\n",
        "\n",
        "  def drink(self):\n",
        "    print('The cat needs a drink.')\n",
        "\n",
        "# 创建🐱对象\n",
        "tom = Cat()\n",
        "\n",
        "tom.eat()\n",
        "tom.drink()\n",
        "print(tom)\n",
        "\n",
        "# 再创建🐱对象\n",
        "lazy_cat = Cat()\n",
        "\n",
        "lazy_cat.eat()\n",
        "lazy_cat.drink()\n",
        "\n",
        "print(lazy_cat)\n",
        "\n",
        "lazy_cat2 = lazy_cat\n",
        "print(lazy_cat2)"
      ],
      "execution_count": 12,
      "outputs": [
        {
          "output_type": "stream",
          "text": [
            "The cat loves to eat fish.\n",
            "The cat needs a drink.\n",
            "<__main__.Cat object at 0x7ff2fc753650>\n",
            "The cat loves to eat fish.\n",
            "The cat needs a drink.\n",
            "<__main__.Cat object at 0x7ff2fc7d8ed0>\n",
            "<__main__.Cat object at 0x7ff2fc7d8ed0>\n"
          ],
          "name": "stdout"
        }
      ]
    },
    {
      "cell_type": "code",
      "metadata": {
        "colab": {
          "base_uri": "https://localhost:8080/"
        },
        "id": "hzYlFEpeEuXr",
        "outputId": "7dd7f5a8-94e5-4a65-d2e4-4bee36a9e118"
      },
      "source": [
        "# \n",
        "class Cat:\n",
        "\n",
        "  def eat(self):\n",
        "    # 由 哪一个对象 调用的方法，方法内的 self 就是 哪一个对象的引用\n",
        "    print('%s loves to eat fish.' % self.name)\n",
        "\n",
        "  def drink(self):\n",
        "    print('%s needs a drink.' % self.name)\n",
        "\n",
        "# 创建🐱对象\n",
        "tom = Cat()\n",
        "\n",
        "# 可以使用  .属性名  利用赋值语句就可以了\n",
        "tom.name = 'Tom'\n",
        "\n",
        "tom.eat()\n",
        "tom.drink()\n",
        "print(tom)\n",
        "\n",
        "# 再创建🐱对象\n",
        "lazy_cat = Cat()\n",
        "lazy_cat.name = 'big_lazy_cat'\n",
        "\n",
        "lazy_cat.eat()\n",
        "lazy_cat.drink()\n",
        "\n",
        "print(lazy_cat)\n",
        "\n",
        "lazy_cat2 = lazy_cat\n",
        "print(lazy_cat2)"
      ],
      "execution_count": 16,
      "outputs": [
        {
          "output_type": "stream",
          "text": [
            "Tom loves to eat fish.\n",
            "Tom needs a drink.\n",
            "<__main__.Cat object at 0x7ff2fc758d10>\n",
            "big_lazy_cat loves to eat fish.\n",
            "big_lazy_cat needs a drink.\n",
            "<__main__.Cat object at 0x7ff2fc718790>\n",
            "<__main__.Cat object at 0x7ff2fc718790>\n"
          ],
          "name": "stdout"
        }
      ]
    },
    {
      "cell_type": "code",
      "metadata": {
        "colab": {
          "base_uri": "https://localhost:8080/"
        },
        "id": "410t-aBW4iOw",
        "outputId": "415e908d-518e-4fc9-af92-b4f103c37a5a"
      },
      "source": [
        "class Cat:\n",
        "\n",
        "  def __init__(self, new_name):\n",
        "    print('这是一个初始化方法')\n",
        "    # self.属性名 = 属性的初始值\n",
        "    self.name = new_name\n",
        "    \n",
        "  def eat(self):\n",
        "    print('%s loves to eat fish.' % self.name)\n",
        "\n",
        "# 使用类名()创建对象的时候，会自动调用初始化方法__init__\n",
        "tom = Cat('Tom')\n",
        "tom.eat()\n",
        "\n",
        "lazy_cat = Cat('lazy_cat')\n",
        "lazy_cat.eat()"
      ],
      "execution_count": 25,
      "outputs": [
        {
          "output_type": "stream",
          "text": [
            "这是一个初始化方法\n",
            "Tom loves to eat fish.\n",
            "这是一个初始化方法\n",
            "lazy_cat loves to eat fish.\n"
          ],
          "name": "stdout"
        }
      ]
    },
    {
      "cell_type": "code",
      "metadata": {
        "colab": {
          "base_uri": "https://localhost:8080/"
        },
        "id": "ainAJfaqEdjd",
        "outputId": "de65d1db-0eac-42e8-be9a-91bfc62d26c3"
      },
      "source": [
        "class Cat:\n",
        "  \n",
        "  def __init__(self, new_name):\n",
        "    self.name = new_name\n",
        "\n",
        "    print('% s come in.' % self.name)\n",
        "\n",
        "  def __del__(self):\n",
        "    print('%s has gone.' % self.name)\n",
        "\n",
        "  def __str__(self):\n",
        "    return 'i am a cat [%s].' % self.name\n",
        "\n",
        "# tom是一个全局变量\n",
        "tom = Cat('Tom')\n",
        "print(tom)\n",
        "\n",
        "# del tom\n",
        "# print('*' *20)"
      ],
      "execution_count": 40,
      "outputs": [
        {
          "output_type": "stream",
          "text": [
            "Tom come in.\n",
            "Tom has gone.\n",
            "i am a cat [Tom].\n"
          ],
          "name": "stdout"
        }
      ]
    },
    {
      "cell_type": "code",
      "metadata": {
        "colab": {
          "base_uri": "https://localhost:8080/"
        },
        "id": "6sf3lqzKHVQz",
        "outputId": "97cf1d8e-ac28-4d5f-a6ea-b623b4092018"
      },
      "source": [
        "class Person:\n",
        "\n",
        "  def __init__(self, name, weight):\n",
        "    # self.属性 = 形参\n",
        "    self.name = name\n",
        "    self.weight = weight\n",
        "\n",
        "  def __str__(self):\n",
        "    return '我的名字叫 %s 体重是%.2f公斤' % (self.name, self.weight)\n",
        "\n",
        "  def run(self):\n",
        "    print('%s 爱跑步，跑步锻炼身体' % self.name)\n",
        "\n",
        "    self.weight -= 0.5\n",
        "\n",
        "  def eat(self):\n",
        "    print('%s 是吃货，吃完这顿再减肥' % self.name)\n",
        "\n",
        "    self.weight += 1\n",
        "\n",
        "xiaoming = Person('小明', 75.0)\n",
        "\n",
        "xiaoming.run()\n",
        "xiaoming.eat()\n",
        "\n",
        "print(xiaoming)\n",
        "\n",
        "# 小美爱跑步\n",
        "xiaomei = Person('小美', 45)\n",
        "\n",
        "xiaomei.run()\n",
        "xiaomei.eat()\n",
        "\n",
        "print(xiaomei)\n",
        "print(xiaoming)"
      ],
      "execution_count": 50,
      "outputs": [
        {
          "output_type": "stream",
          "text": [
            "小明 爱跑步，跑步锻炼身体\n",
            "小明 是吃货，吃完这顿再减肥\n",
            "我的名字叫 小明 体重是75.50公斤\n",
            "小美 爱跑步，跑步锻炼身体\n",
            "小美 是吃货，吃完这顿再减肥\n",
            "我的名字叫 小美 体重是45.50公斤\n",
            "我的名字叫 小明 体重是75.50公斤\n"
          ],
          "name": "stdout"
        }
      ]
    },
    {
      "cell_type": "code",
      "metadata": {
        "colab": {
          "base_uri": "https://localhost:8080/"
        },
        "id": "YC051YrbtQQJ",
        "outputId": "4953bafd-eb0b-42c0-af88-be1c9ed2161d"
      },
      "source": [
        "# 面向对象封装案例 I 摆放家具\n",
        "class HouseItem:\n",
        "\n",
        "  def __init__(self, name, area):\n",
        "    \"\"\"\n",
        "        :param name: 家具名称\n",
        "        :param area: 占地面积\n",
        "        \"\"\"\n",
        "    self.name = name\n",
        "    self.area = area\n",
        "\n",
        "  def __str__(self):\n",
        "    return '[%s] 占地面积 %.2f' % (self.name, self.area)\n",
        "\n",
        "\n",
        "# 1.创建家具🪑\n",
        "bed = HouseItem('席梦思', 4)\n",
        "chest = HouseItem('衣柜', 2)\n",
        "table = HouseItem('餐桌', 1.5)\n",
        "\n",
        "print(bed)\n",
        "print(chest)\n",
        "print(table)\n",
        "\n",
        "class House:\n",
        "\n",
        "  def __init__(self, house_type, area):\n",
        "\n",
        "    self.house_type = house_type\n",
        "    self.area = area\n",
        "\n",
        "    # 剩余面积\n",
        "    self.free_area = area\n",
        "    # 家具名称列表\n",
        "    self.item_list = []\n",
        "\n",
        "  def __str__(self):\n",
        "    return ('户型：%s\\n 总面积：%.2f [剩余：%.2f]\\n家具：%s' \n",
        "            % (self.house_type, self.area, self.free_area, self.item_list))\n",
        "  def add_item(self, item):\n",
        "    print('要添加 %s' % item)\n",
        "     # 1.判断家具面积是否大于剩余面积\n",
        "    if item.area > self.free_area:\n",
        "      print('%s 的面积太大，不能添加到房子中' % item.name)\n",
        "      return # 只要return执行，则下方⬇️代码不执行\n",
        "\n",
        "    # 2. 将家具的名称追加到名称列表中\n",
        "    self.item_list.append(item.name)\n",
        "\n",
        "    # 3. 计算剩余面积\n",
        "    self.free_area -= item.area\n",
        "\n",
        "    \n",
        "# 2.创建房子对象\n",
        "my_home = House('两室一厅', 60)\n",
        "\n",
        "my_home.add_item(bed)\n",
        "my_home.add_item(chest)\n",
        "my_home.add_item(table)\n",
        "\n",
        "print(my_home)"
      ],
      "execution_count": 68,
      "outputs": [
        {
          "output_type": "stream",
          "text": [
            "[席梦思] 占地面积 4.00\n",
            "[衣柜] 占地面积 2.00\n",
            "[餐桌] 占地面积 1.50\n",
            "要添加 [席梦思] 占地面积 4.00\n",
            "要添加 [衣柜] 占地面积 2.00\n",
            "要添加 [餐桌] 占地面积 1.50\n",
            "户型：两室一厅\n",
            " 总面积：60.00 [剩余：52.50]\n",
            "家具：['席梦思', '衣柜', '餐桌']\n"
          ],
          "name": "stdout"
        }
      ]
    },
    {
      "cell_type": "code",
      "metadata": {
        "colab": {
          "base_uri": "https://localhost:8080/"
        },
        "id": "HCH43UxX93IS",
        "outputId": "81c8b83e-7254-4b58-e36d-3115da8afcf0"
      },
      "source": [
        "# 面向对象封装案例 II  一个对象的 属性 可以是 另外一个类创建的对象\n",
        "'''\n",
        "士兵突击  需求\n",
        "\n",
        "士兵 许三多 有一把 AK47\n",
        "士兵 可以 开火\n",
        "枪 能够 发射 子弹\n",
        "枪 装填 装填子弹 —— 增加子弹数量\n",
        "'''\n",
        "\n",
        "class Gun:\n",
        "  def __init__(self, model):\n",
        "    # 1. 抢的型号\n",
        "    self.model = model\n",
        "\n",
        "    # 2. 子弹的数量\n",
        "    self.bullet_count = 0\n",
        "\n",
        "  def add_bullet(self, count):\n",
        "    self.bullet_count += count\n",
        "\n",
        "  def shoot(self):\n",
        "    # 1. 判断子弹数量\n",
        "    if self.bullet_count <= 0:\n",
        "      print('[%s] 没有子弹了' % self.model)\n",
        "      return\n",
        "\n",
        "    # 2. 发射子弹\n",
        "    self.bullet_count -= 1\n",
        "\n",
        "    # 3. 提示发射信息\n",
        "    print('[%s] tututu~ [%d]' % (self.model, self.bullet_count))\n",
        "\n",
        "class Soldier:\n",
        "\n",
        "  def __init__(self, name):\n",
        "    # 1. 姓名\n",
        "    self.name = name\n",
        "\n",
        "    # 2. 抢 士兵初始没有枪 None 关键字表示什么都没有\n",
        "    self.gun = None # 不知道设置什么初始值，可以设置为 None\n",
        "\n",
        "  def fire(self):\n",
        "    # 1. 判断士兵是否有枪\n",
        "    if self.gun is None:\n",
        "        print(\"[%s] 还没有枪...\" % self.name)\n",
        "\n",
        "        return\n",
        "\n",
        "    # 2. 高喊口号\n",
        "    print(\"冲啊...[%s]\" % self.name)\n",
        "\n",
        "    # 3. 让枪装填子弹\n",
        "    self.gun.add_bullet(50)\n",
        "\n",
        "    # 4. 让枪发射子弹\n",
        "    self.gun.shoot()\n",
        "\n",
        "# 1. 创建抢对象\n",
        "ak47 = Gun('AK47')\n",
        "\n",
        "\n",
        "# 2. 创建许三多\n",
        "xusanduo = Soldier('许三多')\n",
        "\n",
        "xusanduo.gun = ak47\n",
        "xusanduo.fire()\n",
        "print(xusanduo.gun)\n"
      ],
      "execution_count": 81,
      "outputs": [
        {
          "output_type": "stream",
          "text": [
            "冲啊...[许三多]\n",
            "[AK47] tututu~ [49]\n",
            "<__main__.Gun object at 0x7ff2fc630790>\n"
          ],
          "name": "stdout"
        }
      ]
    }
  ]
}